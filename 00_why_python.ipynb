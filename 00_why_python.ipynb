{
 "cells": [
  {
   "cell_type": "code",
   "execution_count": null,
   "metadata": {},
   "outputs": [],
   "source": [
    "import numpy as np\n",
    "import pandas as pd\n",
    "import matplotlib.pyplot as plt\n",
    "%matplotlib inline"
   ]
  },
  {
   "cell_type": "code",
   "execution_count": null,
   "metadata": {},
   "outputs": [],
   "source": [
    "from sklearn.metrics import log_loss\n",
    "\n",
    "\n",
    "class NumpyLogisticRegression:\n",
    "    \n",
    "    def __init__(self, learning_rate=0.1, max_iter=100, tol=1e-3,\n",
    "                 batch_size=20):\n",
    "        self.learning_rate = learning_rate\n",
    "        self.max_iter = max_iter\n",
    "        self.tol = tol\n",
    "        self.batch_size = batch_size\n",
    "    \n",
    "    def _sigmoid(self, X):\n",
    "        return 1 / (1 + np.exp(-X))\n",
    "    \n",
    "    def _decision_function(self, X):\n",
    "        return np.dot(X, self.coefs_)\n",
    "    \n",
    "    def decision_function(self, X):\n",
    "        X = self._add_intercept(X)\n",
    "        return self._decision_function(X).ravel()\n",
    "    \n",
    "    def _grad_nll(self, X, y):\n",
    "        grad = (self._predict_proba(X) - y)\n",
    "        return np.dot(X.T, grad)\n",
    "    \n",
    "    def _add_intercept(self, X):\n",
    "        return np.hstack((X, np.ones(shape=(X.shape[0], 1))))\n",
    "\n",
    "    def fit(self, X, y):\n",
    "        X = self._add_intercept(X)\n",
    "        # Make y to be a column vector for later operation\n",
    "        y = np.atleast_2d(y).T\n",
    "        # Initialize randomly the weights\n",
    "        self.coefs_ = np.random.rand(X.shape[1], 1)\n",
    "        \n",
    "        it = 0\n",
    "        loss = np.inf\n",
    "        while it < self.max_iter and loss > self.tol:\n",
    "            # select a minibatch\n",
    "            idx = np.random.choice(np.arange(X.shape[0]),\n",
    "                                   size=self.batch_size)\n",
    "            X_subset, y_subset = X[idx], y[idx]\n",
    "            # compute the gradient\n",
    "            dnll = self._grad_nll(X_subset, y_subset)\n",
    "            # update the parameter\n",
    "            self.coefs_ -= (self.learning_rate / X_subset.shape[0]) * dnll\n",
    "            # update the loss and the number of iteration\n",
    "            loss = log_loss(y, self._predict_proba(X))\n",
    "            it += 1\n",
    "        return self\n",
    "    \n",
    "    def _predict_proba(self, X):\n",
    "        return self._sigmoid(self._decision_function(X))\n",
    "    \n",
    "    def predict_proba(self, X):\n",
    "        X = self._add_intercept(X)\n",
    "        return self._predict_proba(X)\n",
    "\n",
    "    def predict(self, X):\n",
    "        prob = self.predict_proba(X)\n",
    "        prob[prob < 0.5] = 0\n",
    "        prob[prob >= 0.5] = 1\n",
    "        return prob.astype(int).ravel()\n",
    "    \n",
    "    def score(self, X, y):\n",
    "        return np.mean(y == self.predict(X))"
   ]
  },
  {
   "cell_type": "code",
   "execution_count": null,
   "metadata": {},
   "outputs": [],
   "source": [
    "from sklearn.datasets import load_iris\n",
    "iris = load_iris()\n",
    "X, y = iris.data, iris.target\n",
    "X = X[:, :2]\n",
    "mask_class_0_1 = np.bitwise_or(y == 0, y == 1)\n",
    "X = X[mask_class_0_1]\n",
    "y = y[mask_class_0_1]"
   ]
  },
  {
   "cell_type": "code",
   "execution_count": null,
   "metadata": {},
   "outputs": [],
   "source": [
    "clf = NumpyLogisticRegression(learning_rate=0.1)\n",
    "clf.fit(X, y).score(X, y)"
   ]
  },
  {
   "cell_type": "code",
   "execution_count": null,
   "metadata": {},
   "outputs": [],
   "source": [
    "def plot_2d_separator(classifier, X, ax=None, levels=None, eps=None):\n",
    "    eps = X.std() / 2. if eps is None else eps\n",
    "    levels = [0] if levels is None else levels\n",
    "    ax = plt.gca() if ax is None else ax\n",
    "    \n",
    "    x_min, x_max = X[:, 0].min() - eps, X[:, 0].max() + eps\n",
    "    y_min, y_max = X[:, 1].min() - eps, X[:, 1].max() + eps\n",
    "    xx = np.linspace(x_min, x_max, 100)\n",
    "    yy = np.linspace(y_min, y_max, 100)\n",
    "\n",
    "    X1, X2 = np.meshgrid(xx, yy)\n",
    "    X_grid = np.c_[X1.ravel(), X2.ravel()]\n",
    "    decision_values = classifier.decision_function(X_grid)\n",
    "    CS = ax.contour(X1, X2, decision_values.reshape(X1.shape), levels=levels)\n",
    "    ax.clabel(CS, inline=1, fontsize=10)"
   ]
  },
  {
   "cell_type": "code",
   "execution_count": null,
   "metadata": {},
   "outputs": [],
   "source": [
    "plt.scatter(X[:, 0], X[:, 1], c=y)\n",
    "plt.xlabel(iris.feature_names[0])\n",
    "plt.ylabel(iris.feature_names[1]);\n",
    "plot_2d_separator(clf, X, levels=np.arange(-5, 5, 1))"
   ]
  },
  {
   "cell_type": "code",
   "execution_count": null,
   "metadata": {},
   "outputs": [],
   "source": [
    "from sklearn.preprocessing import StandardScaler\n",
    "from sklearn.linear_model import SGDClassifier\n",
    "from sklearn.pipeline import make_pipeline\n",
    "from sklearn.model_selection import cross_val_score"
   ]
  },
  {
   "cell_type": "code",
   "execution_count": null,
   "metadata": {},
   "outputs": [],
   "source": [
    "pipe = make_pipeline(StandardScaler(), SGDClassifier(loss='log', tol=1e-3))\n",
    "cross_val_score(pipe, X, y, cv=5)"
   ]
  },
  {
   "cell_type": "code",
   "execution_count": null,
   "metadata": {},
   "outputs": [],
   "source": [
    "from keras.models import Sequential\n",
    "from keras.layers.core import Dense, Activation\n",
    "from keras import optimizers\n",
    "from sklearn.metrics import accuracy_score\n",
    "\n",
    "model = Sequential()\n",
    "model.add(Dense(1, input_shape=(X.shape[1],)))\n",
    "model.add(Activation(\"sigmoid\"))\n",
    "model.compile(optimizer=optimizers.SGD(lr=0.1),\n",
    "              loss='binary_crossentropy',\n",
    "              metrics=['accuracy'])\n",
    "model.fit(X, y, epochs=10, batch_size=20)\n",
    "print(f'The mean accuracy is: {accuracy_score(y, model.predict_classes(X))}')"
   ]
  },
  {
   "cell_type": "code",
   "execution_count": null,
   "metadata": {},
   "outputs": [],
   "source": []
  }
 ],
 "metadata": {
  "kernelspec": {
   "display_name": "Python 3",
   "language": "python",
   "name": "python3"
  },
  "language_info": {
   "codemirror_mode": {
    "name": "ipython",
    "version": 3
   },
   "file_extension": ".py",
   "mimetype": "text/x-python",
   "name": "python",
   "nbconvert_exporter": "python",
   "pygments_lexer": "ipython3",
   "version": "3.6.8"
  }
 },
 "nbformat": 4,
 "nbformat_minor": 2
}
